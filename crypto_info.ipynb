{
 "cells": [
  {
   "cell_type": "code",
   "execution_count": 4,
   "metadata": {},
   "outputs": [],
   "source": [
    "import pandas as pd\n",
    "import requests\n",
    "from bs4 import BeautifulSoup"
   ]
  },
  {
   "cell_type": "code",
   "execution_count": 5,
   "metadata": {},
   "outputs": [],
   "source": [
    "df = pd.DataFrame()"
   ]
  },
  {
   "cell_type": "code",
   "execution_count": 6,
   "metadata": {},
   "outputs": [],
   "source": [
    "def scrape(date, number):\n",
    "    name, market_cap, price, circulating_supply, symbol = [], [], [], [], []\n",
    "    url = f'https://coinmarketcap.com/historical/{date}/'\n",
    "    webpage = requests.get(url)\n",
    "    soup = BeautifulSoup(webpage.text, 'html.parser')\n",
    "    \n",
    "    # Get table row element\n",
    "    tr = soup.find_all('tr', attrs={'class':'cmc-table-row'})\n",
    "    \n",
    "    count = 0\n",
    "    \n",
    "    for row in tr:\n",
    "        if count == number:\n",
    "            break\n",
    "        else:\n",
    "            count += 1\n",
    "                      \n",
    "            name_col = row.find('td', attrs={'class':'cmc-table__cell cmc-table__cell--sticky cmc-table__cell--sortable cmc-table__cell--left cmc-table__cell--sort-by__name'})\n",
    "            cryptoname = name_col.find('a', attrs={'class':'cmc-table__column-name--name cmc-link'}).text.strip()\n",
    "            \n",
    "            # Market cap\n",
    "            marketcap = row.find('td', attrs={'class':'cmc-table__cell cmc-table__cell--sortable cmc-table__cell--right cmc-table__cell--sort-by__market-cap'}).text.strip()\n",
    "            \n",
    "            # Price\n",
    "            crytoprice = row.find('td', attrs={'class':'cmc-table__cell cmc-table__cell--sortable cmc-table__cell--right cmc-table__cell--sort-by__price'}).text.strip()\n",
    "            \n",
    "            # Circulating supply and symbol            \n",
    "            circ_supply_symbol = row.find('td', attrs={'class':'cmc-table__cell cmc-table__cell--sortable cmc-table__cell--right cmc-table__cell--sort-by__circulating-supply'}).text.strip()\n",
    "            supply = circ_supply_symbol.split(' ')[0]\n",
    "            sym = circ_supply_symbol.split(' ')[1]\n",
    "            \n",
    "            # append the data\n",
    "            name.append(cryptoname)\n",
    "\n",
    "            market_cap.append(marketcap)\n",
    "\n",
    "            price.append(crytoprice)\n",
    "\n",
    "            circulating_supply.append(supply)\n",
    "\n",
    "            symbol.append(sym)\n",
    "              \n",
    "    return name, market_cap, price, circulating_supply, symbol"
   ]
  },
  {
   "cell_type": "code",
   "execution_count": 9,
   "metadata": {},
   "outputs": [],
   "source": [
    "name, marketCap, price, circulating_supply, symbol = scrape('20220828', number=10)"
   ]
  },
  {
   "cell_type": "code",
   "execution_count": 10,
   "metadata": {},
   "outputs": [
    {
     "name": "stdout",
     "output_type": "stream",
     "text": [
      "['Bitcoin', 'Ethereum', 'Tether', 'USD Coin', 'BNB', 'Binance USD', 'XRP', 'Cardano', 'Solana', 'Dogecoin'] \n",
      "\n",
      "['$375,367,382,007.85', '$174,741,315,285.27', '$67,551,567,244.39', '$52,200,895,875.09', '$44,569,560,737.40', '$19,152,402,056.18', '$16,005,208,825.41', '$14,515,263,479.98', '$10,618,466,610.71', '$8,197,164,607.49'] \n",
      "\n",
      "['$19,616.81', '$1,430.55', '$1.00', '$1.00', '$276.25', '$1.00', '$0.3231', '$0.43', '$30.39', '$0.06179'] \n",
      "\n",
      "['19,134,981', '122,149,971', '67,549,664,915', '52,199,284,884', '161,337,261', '19,142,664,180', '49,537,223,666', '33,752,565,071', '349,380,311', '132,670,764,300'] \n",
      "\n",
      "['BTC', 'ETH', 'USDT', 'USDC', 'BNB', 'BUSD', 'XRP', 'ADA', 'SOL', 'DOGE'] \n",
      "\n"
     ]
    }
   ],
   "source": [
    "for i in [name, marketCap, price, circulating_supply, symbol]:\n",
    "    print(i, '\\n')"
   ]
  },
  {
   "cell_type": "code",
   "execution_count": 11,
   "metadata": {},
   "outputs": [
    {
     "data": {
      "text/html": [
       "<div>\n",
       "<style scoped>\n",
       "    .dataframe tbody tr th:only-of-type {\n",
       "        vertical-align: middle;\n",
       "    }\n",
       "\n",
       "    .dataframe tbody tr th {\n",
       "        vertical-align: top;\n",
       "    }\n",
       "\n",
       "    .dataframe thead th {\n",
       "        text-align: right;\n",
       "    }\n",
       "</style>\n",
       "<table border=\"1\" class=\"dataframe\">\n",
       "  <thead>\n",
       "    <tr style=\"text-align: right;\">\n",
       "      <th></th>\n",
       "      <th>Name</th>\n",
       "      <th>Market Cap</th>\n",
       "      <th>Price</th>\n",
       "      <th>Circulating Supply</th>\n",
       "      <th>Symbol</th>\n",
       "    </tr>\n",
       "  </thead>\n",
       "  <tbody>\n",
       "    <tr>\n",
       "      <th>0</th>\n",
       "      <td>Bitcoin</td>\n",
       "      <td>$375,367,382,007.85</td>\n",
       "      <td>$19,616.81</td>\n",
       "      <td>19,134,981</td>\n",
       "      <td>BTC</td>\n",
       "    </tr>\n",
       "    <tr>\n",
       "      <th>1</th>\n",
       "      <td>Ethereum</td>\n",
       "      <td>$174,741,315,285.27</td>\n",
       "      <td>$1,430.55</td>\n",
       "      <td>122,149,971</td>\n",
       "      <td>ETH</td>\n",
       "    </tr>\n",
       "    <tr>\n",
       "      <th>2</th>\n",
       "      <td>Tether</td>\n",
       "      <td>$67,551,567,244.39</td>\n",
       "      <td>$1.00</td>\n",
       "      <td>67,549,664,915</td>\n",
       "      <td>USDT</td>\n",
       "    </tr>\n",
       "    <tr>\n",
       "      <th>3</th>\n",
       "      <td>USD Coin</td>\n",
       "      <td>$52,200,895,875.09</td>\n",
       "      <td>$1.00</td>\n",
       "      <td>52,199,284,884</td>\n",
       "      <td>USDC</td>\n",
       "    </tr>\n",
       "    <tr>\n",
       "      <th>4</th>\n",
       "      <td>BNB</td>\n",
       "      <td>$44,569,560,737.40</td>\n",
       "      <td>$276.25</td>\n",
       "      <td>161,337,261</td>\n",
       "      <td>BNB</td>\n",
       "    </tr>\n",
       "    <tr>\n",
       "      <th>5</th>\n",
       "      <td>Binance USD</td>\n",
       "      <td>$19,152,402,056.18</td>\n",
       "      <td>$1.00</td>\n",
       "      <td>19,142,664,180</td>\n",
       "      <td>BUSD</td>\n",
       "    </tr>\n",
       "    <tr>\n",
       "      <th>6</th>\n",
       "      <td>XRP</td>\n",
       "      <td>$16,005,208,825.41</td>\n",
       "      <td>$0.3231</td>\n",
       "      <td>49,537,223,666</td>\n",
       "      <td>XRP</td>\n",
       "    </tr>\n",
       "    <tr>\n",
       "      <th>7</th>\n",
       "      <td>Cardano</td>\n",
       "      <td>$14,515,263,479.98</td>\n",
       "      <td>$0.43</td>\n",
       "      <td>33,752,565,071</td>\n",
       "      <td>ADA</td>\n",
       "    </tr>\n",
       "    <tr>\n",
       "      <th>8</th>\n",
       "      <td>Solana</td>\n",
       "      <td>$10,618,466,610.71</td>\n",
       "      <td>$30.39</td>\n",
       "      <td>349,380,311</td>\n",
       "      <td>SOL</td>\n",
       "    </tr>\n",
       "    <tr>\n",
       "      <th>9</th>\n",
       "      <td>Dogecoin</td>\n",
       "      <td>$8,197,164,607.49</td>\n",
       "      <td>$0.06179</td>\n",
       "      <td>132,670,764,300</td>\n",
       "      <td>DOGE</td>\n",
       "    </tr>\n",
       "  </tbody>\n",
       "</table>\n",
       "</div>"
      ],
      "text/plain": [
       "          Name           Market Cap       Price Circulating Supply Symbol\n",
       "0      Bitcoin  $375,367,382,007.85  $19,616.81         19,134,981    BTC\n",
       "1     Ethereum  $174,741,315,285.27   $1,430.55        122,149,971    ETH\n",
       "2       Tether   $67,551,567,244.39       $1.00     67,549,664,915   USDT\n",
       "3     USD Coin   $52,200,895,875.09       $1.00     52,199,284,884   USDC\n",
       "4          BNB   $44,569,560,737.40     $276.25        161,337,261    BNB\n",
       "5  Binance USD   $19,152,402,056.18       $1.00     19,142,664,180   BUSD\n",
       "6          XRP   $16,005,208,825.41     $0.3231     49,537,223,666    XRP\n",
       "7      Cardano   $14,515,263,479.98       $0.43     33,752,565,071    ADA\n",
       "8       Solana   $10,618,466,610.71      $30.39        349,380,311    SOL\n",
       "9     Dogecoin    $8,197,164,607.49    $0.06179    132,670,764,300   DOGE"
      ]
     },
     "execution_count": 11,
     "metadata": {},
     "output_type": "execute_result"
    }
   ],
   "source": [
    "df['Name'] = name\n",
    "df['Market Cap'] = marketCap\n",
    "df['Price'] = price\n",
    "df['Circulating Supply'] = circulating_supply\n",
    "df['Symbol'] = symbol\n",
    "df"
   ]
  }
 ],
 "metadata": {
  "kernelspec": {
   "display_name": "Python 3.10.5 64-bit",
   "language": "python",
   "name": "python3"
  },
  "language_info": {
   "codemirror_mode": {
    "name": "ipython",
    "version": 3
   },
   "file_extension": ".py",
   "mimetype": "text/x-python",
   "name": "python",
   "nbconvert_exporter": "python",
   "pygments_lexer": "ipython3",
   "version": "3.10.5"
  },
  "orig_nbformat": 4,
  "vscode": {
   "interpreter": {
    "hash": "e7370f93d1d0cde622a1f8e1c04877d8463912d04d973331ad4851f04de6915a"
   }
  }
 },
 "nbformat": 4,
 "nbformat_minor": 2
}
